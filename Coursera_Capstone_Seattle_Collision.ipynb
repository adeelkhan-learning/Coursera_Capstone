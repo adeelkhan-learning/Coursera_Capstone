{
    "cells": [
        {
            "metadata": {
                "collapsed": true
            },
            "cell_type": "markdown",
            "source": "# INTRODUCTION / BUSINESS UNDERSTANDING"
        },
        {
            "metadata": {},
            "cell_type": "markdown",
            "source": "### Predicting an accident collision based on the data collected is always challenging aspect of the data science topology.There are many factors which causes the accidents and to predict the pattern using these factors can be very helpful to avoid such incidents. Imagine an accident occurring at a particular place or time many times and by analysis we find the relation of the occurrence of accident with factors which can be avoided or warned against. This will be highly beneficial for authorities to take necessary steps and implement a plan for drivers to avoid it from happening in future."
        },
        {
            "metadata": {},
            "cell_type": "markdown",
            "source": "# DATA UNDERSTANDING"
        },
        {
            "metadata": {},
            "cell_type": "markdown",
            "source": "### Here for my Coursera Capstone Project, I have chosen Seattle Collision data for from 2004 to present, which is downloaded from the SDOT Traffic management Division, Traffic records group.\n### Using the provided data, I will try to analyze the data based on the SEVERITY CODE which ranges from 0 to 3, that includes, unknown , prop damage, injury, serious injury and fatality options. \n### I will analyze the data and propose a model by linking the SEVERITY CODE with the Weather, Road, and Light conditions at the time of accident and will try to predict the occurrence of future accident for other drivers so it can be avoided.\n### I will also correlate the accidents severity with other provided factors like Address type, Road Junctions, alcohol influence, Speeding, Vehicle direction etc to check if they have any direct or indirect relation to the severity of the accident\n"
        },
        {
            "metadata": {},
            "cell_type": "code",
            "source": "",
            "execution_count": null,
            "outputs": []
        }
    ],
    "metadata": {
        "kernelspec": {
            "name": "python3",
            "display_name": "Python 3.6",
            "language": "python"
        },
        "language_info": {
            "name": "python",
            "version": "3.6.9",
            "mimetype": "text/x-python",
            "codemirror_mode": {
                "name": "ipython",
                "version": 3
            },
            "pygments_lexer": "ipython3",
            "nbconvert_exporter": "python",
            "file_extension": ".py"
        }
    },
    "nbformat": 4,
    "nbformat_minor": 1
}