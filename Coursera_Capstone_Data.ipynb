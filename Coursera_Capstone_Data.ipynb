{
    "cells": [
        {
            "metadata": {
                "collapsed": true
            },
            "cell_type": "markdown",
            "source": "# SEATTLE ACCIDENT COLLISION ANALYSIS (Coursera Capstone Project)"
        },
        {
            "metadata": {},
            "cell_type": "markdown",
            "source": "## Data Understanding"
        },
        {
            "metadata": {},
            "cell_type": "markdown",
            "source": "Here for my Coursera Capstone Project, I have chosen Seattle Collision data for from 2004 to present, which is downloaded from the SDOT Traffic management Division, Traffic records group.\nUsing the provided data, I will try to analyze the data based on the <b>SEVERITY CODE</b> which ranges from 0 to 3, that includes <b>unknown , prop damage, injury, serious injury and fatality</b> options. \nI will analyze the data and propose a model by linking the <b>SEVERITY CODE</b> with the <b>Weather, Road, and Light</b> conditions at the time of accident and will try to predict the occurrence of future accident for other drivers so it can be avoided.\nI will also correlate the accidents severity with other provided factors like <b>Address type, Road Junctions, alcohol influence, Speeding, Vehicle direction</b> etc to check if they have any direct or indirect relation to the severity of the accident.\n"
        },
        {
            "metadata": {},
            "cell_type": "code",
            "source": "",
            "execution_count": null,
            "outputs": []
        }
    ],
    "metadata": {
        "kernelspec": {
            "name": "python3",
            "display_name": "Python 3.6",
            "language": "python"
        },
        "language_info": {
            "name": "python",
            "version": "3.6.9",
            "mimetype": "text/x-python",
            "codemirror_mode": {
                "name": "ipython",
                "version": 3
            },
            "pygments_lexer": "ipython3",
            "nbconvert_exporter": "python",
            "file_extension": ".py"
        }
    },
    "nbformat": 4,
    "nbformat_minor": 1
}